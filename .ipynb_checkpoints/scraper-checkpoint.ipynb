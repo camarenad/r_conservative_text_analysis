{
 "cells": [
  {
   "cell_type": "code",
   "execution_count": 1,
   "metadata": {
    "collapsed": true
   },
   "outputs": [],
   "source": [
    "import requests \n",
    "import datetime\n",
    "import time\n",
    "from pandas.io.json import json_normalize\n",
    "# Module used to connect Python with MongoDb\n",
    "import pymongo\n",
    "\n",
    "# The default port used by MongoDB is 27017\n",
    "# https://docs.mongodb.com/manual/reference/default-mongodb-port/\n",
    "conn = 'mongodb://localhost:27017'\n",
    "client = pymongo.MongoClient(conn)\n",
    "\n",
    "db = client.reddit_comments_db\n",
    "\n",
    "\n",
    "# Declare the collection\n",
    "collection = db.comments"
   ]
  },
  {
   "cell_type": "code",
   "execution_count": 2,
   "metadata": {
    "collapsed": true
   },
   "outputs": [],
   "source": [
    "url = 'https://api.pushshift.io/reddit/comment/search/?c&subreddit=conservative'"
   ]
  },
  {
   "cell_type": "code",
   "execution_count": null,
   "metadata": {},
   "outputs": [
    {
     "name": "stdout",
     "output_type": "stream",
     "text": [
      "https://api.pushshift.io/reddit/comment/search/?c&subreddit=conservative\n",
      "https://api.pushshift.io/reddit/comment/search/?c&subreddit=conservative&size=3000&before=1585536742\n",
      "https://api.pushshift.io/reddit/comment/search/?c&subreddit=conservative&size=3000&before=1585524076\n",
      "https://api.pushshift.io/reddit/comment/search/?c&subreddit=conservative&size=3000&before=1585512526\n",
      "https://api.pushshift.io/reddit/comment/search/?c&subreddit=conservative&size=3000&before=1585500590\n",
      "https://api.pushshift.io/reddit/comment/search/?c&subreddit=conservative&size=3000&before=1585488515\n",
      "https://api.pushshift.io/reddit/comment/search/?c&subreddit=conservative&size=3000&before=1585455461\n",
      "https://api.pushshift.io/reddit/comment/search/?c&subreddit=conservative&size=3000&before=1585435826\n",
      "https://api.pushshift.io/reddit/comment/search/?c&subreddit=conservative&size=3000&before=1585420598\n",
      "https://api.pushshift.io/reddit/comment/search/?c&subreddit=conservative&size=3000&before=1585406522\n",
      "https://api.pushshift.io/reddit/comment/search/?c&subreddit=conservative&size=3000&before=1585377895\n",
      "https://api.pushshift.io/reddit/comment/search/?c&subreddit=conservative&size=3000&before=1585358491\n",
      "https://api.pushshift.io/reddit/comment/search/?c&subreddit=conservative&size=3000&before=1585343603\n",
      "https://api.pushshift.io/reddit/comment/search/?c&subreddit=conservative&size=3000&before=1585331514\n",
      "https://api.pushshift.io/reddit/comment/search/?c&subreddit=conservative&size=3000&before=1585323290\n",
      "https://api.pushshift.io/reddit/comment/search/?c&subreddit=conservative&size=3000&before=1585312077\n",
      "https://api.pushshift.io/reddit/comment/search/?c&subreddit=conservative&size=3000&before=1585281559\n",
      "https://api.pushshift.io/reddit/comment/search/?c&subreddit=conservative&size=3000&before=1585266849\n",
      "https://api.pushshift.io/reddit/comment/search/?c&subreddit=conservative&size=3000&before=1585254612\n",
      "https://api.pushshift.io/reddit/comment/search/?c&subreddit=conservative&size=3000&before=1585241463\n",
      "https://api.pushshift.io/reddit/comment/search/?c&subreddit=conservative&size=3000&before=1585231407\n",
      "https://api.pushshift.io/reddit/comment/search/?c&subreddit=conservative&size=3000&before=1585204365\n",
      "https://api.pushshift.io/reddit/comment/search/?c&subreddit=conservative&size=3000&before=1585190014\n",
      "https://api.pushshift.io/reddit/comment/search/?c&subreddit=conservative&size=3000&before=1585176602\n",
      "https://api.pushshift.io/reddit/comment/search/?c&subreddit=conservative&size=3000&before=1585164023\n",
      "https://api.pushshift.io/reddit/comment/search/?c&subreddit=conservative&size=3000&before=1585151131\n",
      "https://api.pushshift.io/reddit/comment/search/?c&subreddit=conservative&size=3000&before=1585139099\n",
      "https://api.pushshift.io/reddit/comment/search/?c&subreddit=conservative&size=3000&before=1585105408\n",
      "https://api.pushshift.io/reddit/comment/search/?c&subreddit=conservative&size=3000&before=1585092167\n",
      "https://api.pushshift.io/reddit/comment/search/?c&subreddit=conservative&size=3000&before=1585081874\n",
      "https://api.pushshift.io/reddit/comment/search/?c&subreddit=conservative&size=3000&before=1585071624\n",
      "https://api.pushshift.io/reddit/comment/search/?c&subreddit=conservative&size=3000&before=1585061892\n",
      "https://api.pushshift.io/reddit/comment/search/?c&subreddit=conservative&size=3000&before=1585046596\n",
      "https://api.pushshift.io/reddit/comment/search/?c&subreddit=conservative&size=3000&before=1585020003\n",
      "https://api.pushshift.io/reddit/comment/search/?c&subreddit=conservative&size=3000&before=1585007969\n",
      "https://api.pushshift.io/reddit/comment/search/?c&subreddit=conservative&size=3000&before=1584996035\n",
      "https://api.pushshift.io/reddit/comment/search/?c&subreddit=conservative&size=3000&before=1584984445\n",
      "https://api.pushshift.io/reddit/comment/search/?c&subreddit=conservative&size=3000&before=1584972641\n",
      "https://api.pushshift.io/reddit/comment/search/?c&subreddit=conservative&size=3000&before=1584945728\n",
      "https://api.pushshift.io/reddit/comment/search/?c&subreddit=conservative&size=3000&before=1584927248\n",
      "https://api.pushshift.io/reddit/comment/search/?c&subreddit=conservative&size=3000&before=1584913835\n",
      "https://api.pushshift.io/reddit/comment/search/?c&subreddit=conservative&size=3000&before=1584902559\n",
      "https://api.pushshift.io/reddit/comment/search/?c&subreddit=conservative&size=3000&before=1584889387\n",
      "https://api.pushshift.io/reddit/comment/search/?c&subreddit=conservative&size=3000&before=1584857729\n",
      "https://api.pushshift.io/reddit/comment/search/?c&subreddit=conservative&size=3000&before=1584838363\n",
      "https://api.pushshift.io/reddit/comment/search/?c&subreddit=conservative&size=3000&before=1584820903\n",
      "https://api.pushshift.io/reddit/comment/search/?c&subreddit=conservative&size=3000&before=1584805386\n",
      "https://api.pushshift.io/reddit/comment/search/?c&subreddit=conservative&size=3000&before=1584792766\n",
      "https://api.pushshift.io/reddit/comment/search/?c&subreddit=conservative&size=3000&before=1584763304\n",
      "https://api.pushshift.io/reddit/comment/search/?c&subreddit=conservative&size=3000&before=1584750290\n",
      "https://api.pushshift.io/reddit/comment/search/?c&subreddit=conservative&size=3000&before=1584739398\n",
      "https://api.pushshift.io/reddit/comment/search/?c&subreddit=conservative&size=3000&before=1584727654\n",
      "https://api.pushshift.io/reddit/comment/search/?c&subreddit=conservative&size=3000&before=1584717673\n",
      "https://api.pushshift.io/reddit/comment/search/?c&subreddit=conservative&size=3000&before=1584698442\n",
      "https://api.pushshift.io/reddit/comment/search/?c&subreddit=conservative&size=3000&before=1584672159\n",
      "https://api.pushshift.io/reddit/comment/search/?c&subreddit=conservative&size=3000&before=1584656124\n",
      "https://api.pushshift.io/reddit/comment/search/?c&subreddit=conservative&size=3000&before=1584642443\n",
      "https://api.pushshift.io/reddit/comment/search/?c&subreddit=conservative&size=3000&before=1584632889\n",
      "https://api.pushshift.io/reddit/comment/search/?c&subreddit=conservative&size=3000&before=1584617854\n",
      "https://api.pushshift.io/reddit/comment/search/?c&subreddit=conservative&size=3000&before=1584585973\n",
      "https://api.pushshift.io/reddit/comment/search/?c&subreddit=conservative&size=3000&before=1584573379\n",
      "https://api.pushshift.io/reddit/comment/search/?c&subreddit=conservative&size=3000&before=1584563592\n",
      "https://api.pushshift.io/reddit/comment/search/?c&subreddit=conservative&size=3000&before=1584553350\n",
      "https://api.pushshift.io/reddit/comment/search/?c&subreddit=conservative&size=3000&before=1584539658\n",
      "https://api.pushshift.io/reddit/comment/search/?c&subreddit=conservative&size=3000&before=1584512710\n",
      "https://api.pushshift.io/reddit/comment/search/?c&subreddit=conservative&size=3000&before=1584498487\n",
      "https://api.pushshift.io/reddit/comment/search/?c&subreddit=conservative&size=3000&before=1584487139\n",
      "https://api.pushshift.io/reddit/comment/search/?c&subreddit=conservative&size=3000&before=1584477774\n",
      "https://api.pushshift.io/reddit/comment/search/?c&subreddit=conservative&size=3000&before=1584471967\n",
      "https://api.pushshift.io/reddit/comment/search/?c&subreddit=conservative&size=3000&before=1584464686\n",
      "https://api.pushshift.io/reddit/comment/search/?c&subreddit=conservative&size=3000&before=1584455182\n",
      "https://api.pushshift.io/reddit/comment/search/?c&subreddit=conservative&size=3000&before=1584424009\n",
      "https://api.pushshift.io/reddit/comment/search/?c&subreddit=conservative&size=3000&before=1584404174\n",
      "https://api.pushshift.io/reddit/comment/search/?c&subreddit=conservative&size=3000&before=1584388181\n",
      "https://api.pushshift.io/reddit/comment/search/?c&subreddit=conservative&size=3000&before=1584376297\n",
      "https://api.pushshift.io/reddit/comment/search/?c&subreddit=conservative&size=3000&before=1584358124\n",
      "https://api.pushshift.io/reddit/comment/search/?c&subreddit=conservative&size=3000&before=1584323911\n",
      "https://api.pushshift.io/reddit/comment/search/?c&subreddit=conservative&size=3000&before=1584312911\n",
      "https://api.pushshift.io/reddit/comment/search/?c&subreddit=conservative&size=3000&before=1584297198\n",
      "https://api.pushshift.io/reddit/comment/search/?c&subreddit=conservative&size=3000&before=1584284485\n",
      "https://api.pushshift.io/reddit/comment/search/?c&subreddit=conservative&size=3000&before=1584260026\n",
      "https://api.pushshift.io/reddit/comment/search/?c&subreddit=conservative&size=3000&before=1584239439\n"
     ]
    },
    {
     "name": "stdout",
     "output_type": "stream",
     "text": [
      "https://api.pushshift.io/reddit/comment/search/?c&subreddit=conservative&size=3000&before=1584229874\n",
      "https://api.pushshift.io/reddit/comment/search/?c&subreddit=conservative&size=3000&before=1584218586\n",
      "https://api.pushshift.io/reddit/comment/search/?c&subreddit=conservative&size=3000&before=1584205361\n",
      "https://api.pushshift.io/reddit/comment/search/?c&subreddit=conservative&size=3000&before=1584192738\n",
      "https://api.pushshift.io/reddit/comment/search/?c&subreddit=conservative&size=3000&before=1584164060\n",
      "https://api.pushshift.io/reddit/comment/search/?c&subreddit=conservative&size=3000&before=1584148047\n",
      "https://api.pushshift.io/reddit/comment/search/?c&subreddit=conservative&size=3000&before=1584136110\n",
      "https://api.pushshift.io/reddit/comment/search/?c&subreddit=conservative&size=3000&before=1584126663\n",
      "https://api.pushshift.io/reddit/comment/search/?c&subreddit=conservative&size=3000&before=1584116220\n",
      "https://api.pushshift.io/reddit/comment/search/?c&subreddit=conservative&size=3000&before=1584104012\n",
      "https://api.pushshift.io/reddit/comment/search/?c&subreddit=conservative&size=3000&before=1584078654\n",
      "https://api.pushshift.io/reddit/comment/search/?c&subreddit=conservative&size=3000&before=1584063623\n",
      "https://api.pushshift.io/reddit/comment/search/?c&subreddit=conservative&size=3000&before=1584052425\n",
      "https://api.pushshift.io/reddit/comment/search/?c&subreddit=conservative&size=3000&before=1584042734\n",
      "https://api.pushshift.io/reddit/comment/search/?c&subreddit=conservative&size=3000&before=1584029162\n",
      "https://api.pushshift.io/reddit/comment/search/?c&subreddit=conservative&size=3000&before=1584020168\n",
      "https://api.pushshift.io/reddit/comment/search/?c&subreddit=conservative&size=3000&before=1583993155\n",
      "https://api.pushshift.io/reddit/comment/search/?c&subreddit=conservative&size=3000&before=1583979769\n",
      "https://api.pushshift.io/reddit/comment/search/?c&subreddit=conservative&size=3000&before=1583968675\n",
      "https://api.pushshift.io/reddit/comment/search/?c&subreddit=conservative&size=3000&before=1583959182\n",
      "https://api.pushshift.io/reddit/comment/search/?c&subreddit=conservative&size=3000&before=1583951231\n",
      "https://api.pushshift.io/reddit/comment/search/?c&subreddit=conservative&size=3000&before=1583942209\n",
      "https://api.pushshift.io/reddit/comment/search/?c&subreddit=conservative&size=3000&before=1583932878\n",
      "https://api.pushshift.io/reddit/comment/search/?c&subreddit=conservative&size=3000&before=1583904368\n",
      "https://api.pushshift.io/reddit/comment/search/?c&subreddit=conservative&size=3000&before=1583892737\n",
      "https://api.pushshift.io/reddit/comment/search/?c&subreddit=conservative&size=3000&before=1583881011\n",
      "https://api.pushshift.io/reddit/comment/search/?c&subreddit=conservative&size=3000&before=1583866459\n"
     ]
    }
   ],
   "source": [
    "current_url = None\n",
    "posts = []\n",
    "comments = []\n",
    "size = str(3000)\n",
    "for i in range(300):\n",
    "    if current_url == None:\n",
    "        current_url = url\n",
    "        res = requests.get(f'{current_url}&size={size}')\n",
    "    else:\n",
    "        current_url = f'{url}&size={size}&before={str(time_stamp)}'\n",
    "        res = requests.get(current_url)\n",
    "    if res.status_code != 200:\n",
    "        print(f'Error,{res.status_code}:{url}')\n",
    "        break\n",
    "    current_dict = res.json()\n",
    "    current_posts = {k:v for (k,v) in current_dict.items()}\n",
    "    posts.extend(current_posts['data'])\n",
    "    time_stamp  = str(posts[-1]['created_utc'])\n",
    "    for idx, p in enumerate(posts):\n",
    "        comment = {'comment':posts[idx]['body']}\n",
    "        collection.insert_one(comment)\n",
    "     \n",
    "    print(current_url)\n",
    "    time.sleep(2)"
   ]
  },
  {
   "cell_type": "code",
   "execution_count": 142,
   "metadata": {
    "collapsed": true
   },
   "outputs": [],
   "source": [
    "# for idx, p in enumerate(posts):\n",
    "#     print(posts[idx]['body'])"
   ]
  },
  {
   "cell_type": "code",
   "execution_count": 139,
   "metadata": {},
   "outputs": [
    {
     "data": {
      "text/plain": [
       "6000"
      ]
     },
     "execution_count": 139,
     "metadata": {},
     "output_type": "execute_result"
    }
   ],
   "source": [
    "len(posts)"
   ]
  }
 ],
 "metadata": {
  "kernelspec": {
   "display_name": "Python 3",
   "language": "python",
   "name": "python3"
  },
  "language_info": {
   "codemirror_mode": {
    "name": "ipython",
    "version": 3
   },
   "file_extension": ".py",
   "mimetype": "text/x-python",
   "name": "python",
   "nbconvert_exporter": "python",
   "pygments_lexer": "ipython3",
   "version": "3.6.8"
  }
 },
 "nbformat": 4,
 "nbformat_minor": 2
}
